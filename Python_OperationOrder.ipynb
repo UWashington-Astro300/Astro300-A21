{
 "cells": [
  {
   "cell_type": "markdown",
   "metadata": {},
   "source": [
    "# Python Operator Precedence"
   ]
  },
  {
   "cell_type": "markdown",
   "metadata": {},
   "source": [
    "#### In Python operator expressions are evaluated and the order of precedence. \n",
    "\n",
    "#### For standard mathematical expressions the order from highest to lowest precedence is:\n",
    "\n",
    "* Parentheses ()\n",
    "* Exponentiation **\n",
    "* Multiplication *\n",
    "* Division /\n",
    "* Addition +\n",
    "* Subtraction - \n",
    "\n",
    "#### Expressions are evaluated left to right\n",
    "\n",
    "### [Full List of Python Operator Precedence (Lowest to Highest)](https://i.stack.imgur.com/Wk0Xq.png)"
   ]
  },
  {
   "cell_type": "markdown",
   "metadata": {},
   "source": [
    "---\n",
    "\n",
    "## An Example\n",
    "\n",
    "\n",
    "$$ \\Large\n",
    "\\frac{1329}{\\sqrt{\\mathrm{3.4}}} = 720.75\n",
    "$$\n",
    "\n"
   ]
  },
  {
   "cell_type": "code",
   "execution_count": null,
   "metadata": {},
   "outputs": [],
   "source": [
    "import numpy as np"
   ]
  },
  {
   "cell_type": "markdown",
   "metadata": {},
   "source": [
    "### First Try - Not what I expected"
   ]
  },
  {
   "cell_type": "code",
   "execution_count": null,
   "metadata": {},
   "outputs": [],
   "source": [
    "1329 / 3.4 ** 1/2"
   ]
  },
  {
   "cell_type": "markdown",
   "metadata": {},
   "source": [
    "#### This is evaluated as: `1329 / (3.4 ** 1) / 2`\n",
    "\n",
    "* `(3.4 ** 1) = 3.4`\n",
    "* `1329 / 3.4 = 390.88`\n",
    "* `390.88 / 2 = 195.44`"
   ]
  },
  {
   "cell_type": "markdown",
   "metadata": {},
   "source": [
    "### This is probably what you wanted:\n",
    "\n",
    "* Make the 1/2 fraction evaluate first"
   ]
  },
  {
   "cell_type": "code",
   "execution_count": null,
   "metadata": {},
   "outputs": [],
   "source": [
    "1329 / 3.4 ** (1/2)"
   ]
  },
  {
   "cell_type": "markdown",
   "metadata": {},
   "source": [
    "### Other ways to do this:"
   ]
  },
  {
   "cell_type": "code",
   "execution_count": null,
   "metadata": {},
   "outputs": [],
   "source": [
    "1329 / np.sqrt(3.4)"
   ]
  },
  {
   "cell_type": "code",
   "execution_count": null,
   "metadata": {},
   "outputs": [],
   "source": [
    "1329 / np.power(3.4, 1/2)"
   ]
  },
  {
   "cell_type": "code",
   "execution_count": null,
   "metadata": {},
   "outputs": [],
   "source": []
  }
 ],
 "metadata": {
  "anaconda-cloud": {},
  "kernelspec": {
   "display_name": "Python 3",
   "language": "python",
   "name": "python3"
  },
  "language_info": {
   "codemirror_mode": {
    "name": "ipython",
    "version": 3
   },
   "file_extension": ".py",
   "mimetype": "text/x-python",
   "name": "python",
   "nbconvert_exporter": "python",
   "pygments_lexer": "ipython3",
   "version": "3.8.8"
  }
 },
 "nbformat": 4,
 "nbformat_minor": 4
}
